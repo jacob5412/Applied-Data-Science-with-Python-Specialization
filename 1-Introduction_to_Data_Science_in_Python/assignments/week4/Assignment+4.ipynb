{
 "cells": [
  {
   "cell_type": "markdown",
   "metadata": {},
   "source": [
    "---\n",
    "\n",
    "_You are currently looking at **version 1.1** of this notebook. To download notebooks and datafiles, as well as get help on Jupyter notebooks in the Coursera platform, visit the [Jupyter Notebook FAQ](https://www.coursera.org/learn/python-data-analysis/resources/0dhYG) course resource._\n",
    "\n",
    "---"
   ]
  },
  {
   "cell_type": "code",
   "execution_count": 1,
   "metadata": {},
   "outputs": [
    {
     "data": {
      "application/javascript": [
       "\n",
       "            setTimeout(function() {\n",
       "                var nbb_cell_id = 1;\n",
       "                var nbb_unformatted_code = \"%load_ext nb_black\";\n",
       "                var nbb_formatted_code = \"%load_ext nb_black\";\n",
       "                var nbb_cells = Jupyter.notebook.get_cells();\n",
       "                for (var i = 0; i < nbb_cells.length; ++i) {\n",
       "                    if (nbb_cells[i].input_prompt_number == nbb_cell_id) {\n",
       "                        if (nbb_cells[i].get_text() == nbb_unformatted_code) {\n",
       "                             nbb_cells[i].set_text(nbb_formatted_code);\n",
       "                        }\n",
       "                        break;\n",
       "                    }\n",
       "                }\n",
       "            }, 500);\n",
       "            "
      ],
      "text/plain": [
       "<IPython.core.display.Javascript object>"
      ]
     },
     "metadata": {},
     "output_type": "display_data"
    }
   ],
   "source": [
    "%load_ext nb_black"
   ]
  },
  {
   "cell_type": "code",
   "execution_count": 2,
   "metadata": {},
   "outputs": [
    {
     "data": {
      "application/javascript": [
       "\n",
       "            setTimeout(function() {\n",
       "                var nbb_cell_id = 2;\n",
       "                var nbb_unformatted_code = \"import pandas as pd\\nimport numpy as np\\nfrom scipy.stats import ttest_ind\\nimport re\";\n",
       "                var nbb_formatted_code = \"import pandas as pd\\nimport numpy as np\\nfrom scipy.stats import ttest_ind\\nimport re\";\n",
       "                var nbb_cells = Jupyter.notebook.get_cells();\n",
       "                for (var i = 0; i < nbb_cells.length; ++i) {\n",
       "                    if (nbb_cells[i].input_prompt_number == nbb_cell_id) {\n",
       "                        if (nbb_cells[i].get_text() == nbb_unformatted_code) {\n",
       "                             nbb_cells[i].set_text(nbb_formatted_code);\n",
       "                        }\n",
       "                        break;\n",
       "                    }\n",
       "                }\n",
       "            }, 500);\n",
       "            "
      ],
      "text/plain": [
       "<IPython.core.display.Javascript object>"
      ]
     },
     "metadata": {},
     "output_type": "display_data"
    }
   ],
   "source": [
    "import pandas as pd\n",
    "import numpy as np\n",
    "from scipy.stats import ttest_ind\n",
    "import re"
   ]
  },
  {
   "cell_type": "markdown",
   "metadata": {},
   "source": [
    "# Assignment 4 - Hypothesis Testing\n",
    "This assignment requires more individual learning than previous assignments - you are encouraged to check out the [pandas documentation](http://pandas.pydata.org/pandas-docs/stable/) to find functions or methods you might not have used yet, or ask questions on [Stack Overflow](http://stackoverflow.com/) and tag them as pandas and python related. And of course, the discussion forums are open for interaction with your peers and the course staff.\n",
    "\n",
    "Definitions:\n",
    "* A _quarter_ is a specific three month period, Q1 is January through March, Q2 is April through June, Q3 is July through September, Q4 is October through December.\n",
    "* A _recession_ is defined as starting with two consecutive quarters of GDP decline, and ending with two consecutive quarters of GDP growth.\n",
    "* A _recession bottom_ is the quarter within a recession which had the lowest GDP.\n",
    "* A _university town_ is a city which has a high percentage of university students compared to the total population of the city.\n",
    "\n",
    "**Hypothesis**: University towns have their mean housing prices less effected by recessions. Run a t-test to compare the ratio of the mean price of houses in university towns the quarter before the recession starts compared to the recession bottom. (`price_ratio=quarter_before_recession/recession_bottom`)\n",
    "\n",
    "The following data files are available for this assignment:\n",
    "* From the [Zillow research data site](http://www.zillow.com/research/data/) there is housing data for the United States. In particular the datafile for [all homes at a city level](http://files.zillowstatic.com/research/public/City/City_Zhvi_AllHomes.csv), ```City_Zhvi_AllHomes.csv```, has median home sale prices at a fine grained level.\n",
    "* From the Wikipedia page on college towns is a list of [university towns in the United States](https://en.wikipedia.org/wiki/List_of_college_towns#College_towns_in_the_United_States) which has been copy and pasted into the file ```university_towns.txt```.\n",
    "* From Bureau of Economic Analysis, US Department of Commerce, the [GDP over time](http://www.bea.gov/national/index.htm#gdp) of the United States in current dollars (use the chained value in 2009 dollars), in quarterly intervals, in the file ```gdplev.xls```. For this assignment, only look at GDP data from the first quarter of 2000 onward.\n",
    "\n",
    "Each function in this assignment below is worth 10%, with the exception of ```run_ttest()```, which is worth 50%."
   ]
  },
  {
   "cell_type": "code",
   "execution_count": 3,
   "metadata": {},
   "outputs": [
    {
     "data": {
      "application/javascript": [
       "\n",
       "            setTimeout(function() {\n",
       "                var nbb_cell_id = 3;\n",
       "                var nbb_unformatted_code = \"# Use this dictionary to map state names to two letter acronyms\\nstates = {\\n    \\\"OH\\\": \\\"Ohio\\\",\\n    \\\"KY\\\": \\\"Kentucky\\\",\\n    \\\"AS\\\": \\\"American Samoa\\\",\\n    \\\"NV\\\": \\\"Nevada\\\",\\n    \\\"WY\\\": \\\"Wyoming\\\",\\n    \\\"NA\\\": \\\"National\\\",\\n    \\\"AL\\\": \\\"Alabama\\\",\\n    \\\"MD\\\": \\\"Maryland\\\",\\n    \\\"AK\\\": \\\"Alaska\\\",\\n    \\\"UT\\\": \\\"Utah\\\",\\n    \\\"OR\\\": \\\"Oregon\\\",\\n    \\\"MT\\\": \\\"Montana\\\",\\n    \\\"IL\\\": \\\"Illinois\\\",\\n    \\\"TN\\\": \\\"Tennessee\\\",\\n    \\\"DC\\\": \\\"District of Columbia\\\",\\n    \\\"VT\\\": \\\"Vermont\\\",\\n    \\\"ID\\\": \\\"Idaho\\\",\\n    \\\"AR\\\": \\\"Arkansas\\\",\\n    \\\"ME\\\": \\\"Maine\\\",\\n    \\\"WA\\\": \\\"Washington\\\",\\n    \\\"HI\\\": \\\"Hawaii\\\",\\n    \\\"WI\\\": \\\"Wisconsin\\\",\\n    \\\"MI\\\": \\\"Michigan\\\",\\n    \\\"IN\\\": \\\"Indiana\\\",\\n    \\\"NJ\\\": \\\"New Jersey\\\",\\n    \\\"AZ\\\": \\\"Arizona\\\",\\n    \\\"GU\\\": \\\"Guam\\\",\\n    \\\"MS\\\": \\\"Mississippi\\\",\\n    \\\"PR\\\": \\\"Puerto Rico\\\",\\n    \\\"NC\\\": \\\"North Carolina\\\",\\n    \\\"TX\\\": \\\"Texas\\\",\\n    \\\"SD\\\": \\\"South Dakota\\\",\\n    \\\"MP\\\": \\\"Northern Mariana Islands\\\",\\n    \\\"IA\\\": \\\"Iowa\\\",\\n    \\\"MO\\\": \\\"Missouri\\\",\\n    \\\"CT\\\": \\\"Connecticut\\\",\\n    \\\"WV\\\": \\\"West Virginia\\\",\\n    \\\"SC\\\": \\\"South Carolina\\\",\\n    \\\"LA\\\": \\\"Louisiana\\\",\\n    \\\"KS\\\": \\\"Kansas\\\",\\n    \\\"NY\\\": \\\"New York\\\",\\n    \\\"NE\\\": \\\"Nebraska\\\",\\n    \\\"OK\\\": \\\"Oklahoma\\\",\\n    \\\"FL\\\": \\\"Florida\\\",\\n    \\\"CA\\\": \\\"California\\\",\\n    \\\"CO\\\": \\\"Colorado\\\",\\n    \\\"PA\\\": \\\"Pennsylvania\\\",\\n    \\\"DE\\\": \\\"Delaware\\\",\\n    \\\"NM\\\": \\\"New Mexico\\\",\\n    \\\"RI\\\": \\\"Rhode Island\\\",\\n    \\\"MN\\\": \\\"Minnesota\\\",\\n    \\\"VI\\\": \\\"Virgin Islands\\\",\\n    \\\"NH\\\": \\\"New Hampshire\\\",\\n    \\\"MA\\\": \\\"Massachusetts\\\",\\n    \\\"GA\\\": \\\"Georgia\\\",\\n    \\\"ND\\\": \\\"North Dakota\\\",\\n    \\\"VA\\\": \\\"Virginia\\\",\\n}\";\n",
       "                var nbb_formatted_code = \"# Use this dictionary to map state names to two letter acronyms\\nstates = {\\n    \\\"OH\\\": \\\"Ohio\\\",\\n    \\\"KY\\\": \\\"Kentucky\\\",\\n    \\\"AS\\\": \\\"American Samoa\\\",\\n    \\\"NV\\\": \\\"Nevada\\\",\\n    \\\"WY\\\": \\\"Wyoming\\\",\\n    \\\"NA\\\": \\\"National\\\",\\n    \\\"AL\\\": \\\"Alabama\\\",\\n    \\\"MD\\\": \\\"Maryland\\\",\\n    \\\"AK\\\": \\\"Alaska\\\",\\n    \\\"UT\\\": \\\"Utah\\\",\\n    \\\"OR\\\": \\\"Oregon\\\",\\n    \\\"MT\\\": \\\"Montana\\\",\\n    \\\"IL\\\": \\\"Illinois\\\",\\n    \\\"TN\\\": \\\"Tennessee\\\",\\n    \\\"DC\\\": \\\"District of Columbia\\\",\\n    \\\"VT\\\": \\\"Vermont\\\",\\n    \\\"ID\\\": \\\"Idaho\\\",\\n    \\\"AR\\\": \\\"Arkansas\\\",\\n    \\\"ME\\\": \\\"Maine\\\",\\n    \\\"WA\\\": \\\"Washington\\\",\\n    \\\"HI\\\": \\\"Hawaii\\\",\\n    \\\"WI\\\": \\\"Wisconsin\\\",\\n    \\\"MI\\\": \\\"Michigan\\\",\\n    \\\"IN\\\": \\\"Indiana\\\",\\n    \\\"NJ\\\": \\\"New Jersey\\\",\\n    \\\"AZ\\\": \\\"Arizona\\\",\\n    \\\"GU\\\": \\\"Guam\\\",\\n    \\\"MS\\\": \\\"Mississippi\\\",\\n    \\\"PR\\\": \\\"Puerto Rico\\\",\\n    \\\"NC\\\": \\\"North Carolina\\\",\\n    \\\"TX\\\": \\\"Texas\\\",\\n    \\\"SD\\\": \\\"South Dakota\\\",\\n    \\\"MP\\\": \\\"Northern Mariana Islands\\\",\\n    \\\"IA\\\": \\\"Iowa\\\",\\n    \\\"MO\\\": \\\"Missouri\\\",\\n    \\\"CT\\\": \\\"Connecticut\\\",\\n    \\\"WV\\\": \\\"West Virginia\\\",\\n    \\\"SC\\\": \\\"South Carolina\\\",\\n    \\\"LA\\\": \\\"Louisiana\\\",\\n    \\\"KS\\\": \\\"Kansas\\\",\\n    \\\"NY\\\": \\\"New York\\\",\\n    \\\"NE\\\": \\\"Nebraska\\\",\\n    \\\"OK\\\": \\\"Oklahoma\\\",\\n    \\\"FL\\\": \\\"Florida\\\",\\n    \\\"CA\\\": \\\"California\\\",\\n    \\\"CO\\\": \\\"Colorado\\\",\\n    \\\"PA\\\": \\\"Pennsylvania\\\",\\n    \\\"DE\\\": \\\"Delaware\\\",\\n    \\\"NM\\\": \\\"New Mexico\\\",\\n    \\\"RI\\\": \\\"Rhode Island\\\",\\n    \\\"MN\\\": \\\"Minnesota\\\",\\n    \\\"VI\\\": \\\"Virgin Islands\\\",\\n    \\\"NH\\\": \\\"New Hampshire\\\",\\n    \\\"MA\\\": \\\"Massachusetts\\\",\\n    \\\"GA\\\": \\\"Georgia\\\",\\n    \\\"ND\\\": \\\"North Dakota\\\",\\n    \\\"VA\\\": \\\"Virginia\\\",\\n}\";\n",
       "                var nbb_cells = Jupyter.notebook.get_cells();\n",
       "                for (var i = 0; i < nbb_cells.length; ++i) {\n",
       "                    if (nbb_cells[i].input_prompt_number == nbb_cell_id) {\n",
       "                        if (nbb_cells[i].get_text() == nbb_unformatted_code) {\n",
       "                             nbb_cells[i].set_text(nbb_formatted_code);\n",
       "                        }\n",
       "                        break;\n",
       "                    }\n",
       "                }\n",
       "            }, 500);\n",
       "            "
      ],
      "text/plain": [
       "<IPython.core.display.Javascript object>"
      ]
     },
     "metadata": {},
     "output_type": "display_data"
    }
   ],
   "source": [
    "# Use this dictionary to map state names to two letter acronyms\n",
    "states = {\n",
    "    \"OH\": \"Ohio\",\n",
    "    \"KY\": \"Kentucky\",\n",
    "    \"AS\": \"American Samoa\",\n",
    "    \"NV\": \"Nevada\",\n",
    "    \"WY\": \"Wyoming\",\n",
    "    \"NA\": \"National\",\n",
    "    \"AL\": \"Alabama\",\n",
    "    \"MD\": \"Maryland\",\n",
    "    \"AK\": \"Alaska\",\n",
    "    \"UT\": \"Utah\",\n",
    "    \"OR\": \"Oregon\",\n",
    "    \"MT\": \"Montana\",\n",
    "    \"IL\": \"Illinois\",\n",
    "    \"TN\": \"Tennessee\",\n",
    "    \"DC\": \"District of Columbia\",\n",
    "    \"VT\": \"Vermont\",\n",
    "    \"ID\": \"Idaho\",\n",
    "    \"AR\": \"Arkansas\",\n",
    "    \"ME\": \"Maine\",\n",
    "    \"WA\": \"Washington\",\n",
    "    \"HI\": \"Hawaii\",\n",
    "    \"WI\": \"Wisconsin\",\n",
    "    \"MI\": \"Michigan\",\n",
    "    \"IN\": \"Indiana\",\n",
    "    \"NJ\": \"New Jersey\",\n",
    "    \"AZ\": \"Arizona\",\n",
    "    \"GU\": \"Guam\",\n",
    "    \"MS\": \"Mississippi\",\n",
    "    \"PR\": \"Puerto Rico\",\n",
    "    \"NC\": \"North Carolina\",\n",
    "    \"TX\": \"Texas\",\n",
    "    \"SD\": \"South Dakota\",\n",
    "    \"MP\": \"Northern Mariana Islands\",\n",
    "    \"IA\": \"Iowa\",\n",
    "    \"MO\": \"Missouri\",\n",
    "    \"CT\": \"Connecticut\",\n",
    "    \"WV\": \"West Virginia\",\n",
    "    \"SC\": \"South Carolina\",\n",
    "    \"LA\": \"Louisiana\",\n",
    "    \"KS\": \"Kansas\",\n",
    "    \"NY\": \"New York\",\n",
    "    \"NE\": \"Nebraska\",\n",
    "    \"OK\": \"Oklahoma\",\n",
    "    \"FL\": \"Florida\",\n",
    "    \"CA\": \"California\",\n",
    "    \"CO\": \"Colorado\",\n",
    "    \"PA\": \"Pennsylvania\",\n",
    "    \"DE\": \"Delaware\",\n",
    "    \"NM\": \"New Mexico\",\n",
    "    \"RI\": \"Rhode Island\",\n",
    "    \"MN\": \"Minnesota\",\n",
    "    \"VI\": \"Virgin Islands\",\n",
    "    \"NH\": \"New Hampshire\",\n",
    "    \"MA\": \"Massachusetts\",\n",
    "    \"GA\": \"Georgia\",\n",
    "    \"ND\": \"North Dakota\",\n",
    "    \"VA\": \"Virginia\",\n",
    "}"
   ]
  },
  {
   "cell_type": "code",
   "execution_count": 4,
   "metadata": {
    "umich_part_id": "021",
    "umich_partlist_id": "004"
   },
   "outputs": [
    {
     "data": {
      "application/javascript": [
       "\n",
       "            setTimeout(function() {\n",
       "                var nbb_cell_id = 4;\n",
       "                var nbb_unformatted_code = \"def get_list_of_university_towns():\\n    \\\"\\\"\\\"Returns a DataFrame of towns and the states they are in from the\\n    university_towns.txt list. The format of the DataFrame should be:\\n    DataFrame( [ [\\\"Michigan\\\", \\\"Ann Arbor\\\"], [\\\"Michigan\\\", \\\"Yipsilanti\\\"] ],\\n    columns=[\\\"State\\\", \\\"RegionName\\\"]  )\\n\\n    The following cleaning needs to be done:\\n\\n    1. For \\\"State\\\", removing characters from \\\"[\\\" to the end.\\n    2. For \\\"RegionName\\\", when applicable, removing every character from \\\" (\\\" to the end.\\n    3. Depending on how you read the data, you may need to remove newline character '\\\\n'.\\\"\\\"\\\"\\n\\n    university_towns_df = pd.read_csv(\\n        \\\"university_towns.txt\\\",\\n        engine=\\\"python\\\",\\n        sep=\\\"\\\\n\\\",\\n        header=None,\\n        names=[\\\"RegionName\\\"],\\n    )\\n    university_towns_df[\\\"RegionName\\\"] = university_towns_df[\\\"RegionName\\\"].str.replace(\\n        r\\\" ?\\\\[[0-9]*\\\\]\\\", \\\"\\\"\\n    )\\n    university_towns_df[\\\"State\\\"] = university_towns_df[\\\"RegionName\\\"].apply(\\n        lambda x: re.sub(r\\\"\\\\[edit\\\\]\\\", \\\"\\\", x)\\n        if re.search(r\\\"\\\\[edit\\\\]\\\", x) != None\\n        else np.nan\\n    )\\n\\n    university_towns_df[\\\"State\\\"].fillna(method=\\\"ffill\\\", inplace=True)\\n\\n    university_towns_df[\\\"University\\\"] = university_towns_df[\\\"RegionName\\\"].apply(\\n        lambda x: re.sub(r\\\"[\\\\(\\\\)]\\\", \\\"\\\", re.search(r\\\" ?\\\\(.*\\\\)?\\\", x)[0])\\n        if re.search(r\\\" ?\\\\(.*\\\\)?\\\", x) != None\\n        else np.nan\\n    )\\n    university_towns_df[\\\"RegionName\\\"] = university_towns_df[\\\"RegionName\\\"].str.replace(\\n        r\\\" ?\\\\(.*\\\\)?\\\", \\\"\\\"\\n    )\\n\\n    university_towns_df = university_towns_df[\\n        ~(\\n            university_towns_df[\\\"RegionName\\\"].str.contains(r\\\"[edit]\\\")\\n            & university_towns_df[\\\"University\\\"].isna()\\n        )\\n    ]\\n\\n    university_towns_df.reset_index(drop=True, inplace=True)\\n\\n    return university_towns_df[[\\\"State\\\", \\\"RegionName\\\"]]\";\n",
       "                var nbb_formatted_code = \"def get_list_of_university_towns():\\n    \\\"\\\"\\\"Returns a DataFrame of towns and the states they are in from the\\n    university_towns.txt list. The format of the DataFrame should be:\\n    DataFrame( [ [\\\"Michigan\\\", \\\"Ann Arbor\\\"], [\\\"Michigan\\\", \\\"Yipsilanti\\\"] ],\\n    columns=[\\\"State\\\", \\\"RegionName\\\"]  )\\n\\n    The following cleaning needs to be done:\\n\\n    1. For \\\"State\\\", removing characters from \\\"[\\\" to the end.\\n    2. For \\\"RegionName\\\", when applicable, removing every character from \\\" (\\\" to the end.\\n    3. Depending on how you read the data, you may need to remove newline character '\\\\n'.\\\"\\\"\\\"\\n\\n    university_towns_df = pd.read_csv(\\n        \\\"university_towns.txt\\\",\\n        engine=\\\"python\\\",\\n        sep=\\\"\\\\n\\\",\\n        header=None,\\n        names=[\\\"RegionName\\\"],\\n    )\\n    university_towns_df[\\\"RegionName\\\"] = university_towns_df[\\\"RegionName\\\"].str.replace(\\n        r\\\" ?\\\\[[0-9]*\\\\]\\\", \\\"\\\"\\n    )\\n    university_towns_df[\\\"State\\\"] = university_towns_df[\\\"RegionName\\\"].apply(\\n        lambda x: re.sub(r\\\"\\\\[edit\\\\]\\\", \\\"\\\", x)\\n        if re.search(r\\\"\\\\[edit\\\\]\\\", x) != None\\n        else np.nan\\n    )\\n\\n    university_towns_df[\\\"State\\\"].fillna(method=\\\"ffill\\\", inplace=True)\\n\\n    university_towns_df[\\\"University\\\"] = university_towns_df[\\\"RegionName\\\"].apply(\\n        lambda x: re.sub(r\\\"[\\\\(\\\\)]\\\", \\\"\\\", re.search(r\\\" ?\\\\(.*\\\\)?\\\", x)[0])\\n        if re.search(r\\\" ?\\\\(.*\\\\)?\\\", x) != None\\n        else np.nan\\n    )\\n    university_towns_df[\\\"RegionName\\\"] = university_towns_df[\\\"RegionName\\\"].str.replace(\\n        r\\\" ?\\\\(.*\\\\)?\\\", \\\"\\\"\\n    )\\n\\n    university_towns_df = university_towns_df[\\n        ~(\\n            university_towns_df[\\\"RegionName\\\"].str.contains(r\\\"[edit]\\\")\\n            & university_towns_df[\\\"University\\\"].isna()\\n        )\\n    ]\\n\\n    university_towns_df.reset_index(drop=True, inplace=True)\\n\\n    return university_towns_df[[\\\"State\\\", \\\"RegionName\\\"]]\";\n",
       "                var nbb_cells = Jupyter.notebook.get_cells();\n",
       "                for (var i = 0; i < nbb_cells.length; ++i) {\n",
       "                    if (nbb_cells[i].input_prompt_number == nbb_cell_id) {\n",
       "                        if (nbb_cells[i].get_text() == nbb_unformatted_code) {\n",
       "                             nbb_cells[i].set_text(nbb_formatted_code);\n",
       "                        }\n",
       "                        break;\n",
       "                    }\n",
       "                }\n",
       "            }, 500);\n",
       "            "
      ],
      "text/plain": [
       "<IPython.core.display.Javascript object>"
      ]
     },
     "metadata": {},
     "output_type": "display_data"
    }
   ],
   "source": [
    "def get_list_of_university_towns():\n",
    "    \"\"\"Returns a DataFrame of towns and the states they are in from the\n",
    "    university_towns.txt list. The format of the DataFrame should be:\n",
    "    DataFrame( [ [\"Michigan\", \"Ann Arbor\"], [\"Michigan\", \"Yipsilanti\"] ],\n",
    "    columns=[\"State\", \"RegionName\"]  )\n",
    "\n",
    "    The following cleaning needs to be done:\n",
    "\n",
    "    1. For \"State\", removing characters from \"[\" to the end.\n",
    "    2. For \"RegionName\", when applicable, removing every character from \" (\" to the end.\n",
    "    3. Depending on how you read the data, you may need to remove newline character '\\n'.\"\"\"\n",
    "\n",
    "    university_towns_df = pd.read_csv(\n",
    "        \"university_towns.txt\",\n",
    "        engine=\"python\",\n",
    "        sep=\"\\n\",\n",
    "        header=None,\n",
    "        names=[\"RegionName\"],\n",
    "    )\n",
    "    university_towns_df[\"RegionName\"] = university_towns_df[\"RegionName\"].str.replace(\n",
    "        r\" ?\\[[0-9]*\\]\", \"\"\n",
    "    )\n",
    "    university_towns_df[\"State\"] = university_towns_df[\"RegionName\"].apply(\n",
    "        lambda x: re.sub(r\"\\[edit\\]\", \"\", x)\n",
    "        if re.search(r\"\\[edit\\]\", x) != None\n",
    "        else np.nan\n",
    "    )\n",
    "\n",
    "    university_towns_df[\"State\"].fillna(method=\"ffill\", inplace=True)\n",
    "\n",
    "    university_towns_df[\"University\"] = university_towns_df[\"RegionName\"].apply(\n",
    "        lambda x: re.sub(r\"[\\(\\)]\", \"\", re.search(r\" ?\\(.*\\)?\", x)[0])\n",
    "        if re.search(r\" ?\\(.*\\)?\", x) != None\n",
    "        else np.nan\n",
    "    )\n",
    "    university_towns_df[\"RegionName\"] = university_towns_df[\"RegionName\"].str.replace(\n",
    "        r\" ?\\(.*\\)?\", \"\"\n",
    "    )\n",
    "\n",
    "    university_towns_df = university_towns_df[\n",
    "        ~(\n",
    "            university_towns_df[\"RegionName\"].str.contains(r\"[edit]\")\n",
    "            & university_towns_df[\"University\"].isna()\n",
    "        )\n",
    "    ]\n",
    "\n",
    "    university_towns_df.reset_index(drop=True, inplace=True)\n",
    "\n",
    "    return university_towns_df[[\"State\", \"RegionName\"]]"
   ]
  },
  {
   "cell_type": "code",
   "execution_count": 5,
   "metadata": {},
   "outputs": [
    {
     "data": {
      "text/html": [
       "<div>\n",
       "<style scoped>\n",
       "    .dataframe tbody tr th:only-of-type {\n",
       "        vertical-align: middle;\n",
       "    }\n",
       "\n",
       "    .dataframe tbody tr th {\n",
       "        vertical-align: top;\n",
       "    }\n",
       "\n",
       "    .dataframe thead th {\n",
       "        text-align: right;\n",
       "    }\n",
       "</style>\n",
       "<table border=\"1\" class=\"dataframe\">\n",
       "  <thead>\n",
       "    <tr style=\"text-align: right;\">\n",
       "      <th></th>\n",
       "      <th>State</th>\n",
       "      <th>RegionName</th>\n",
       "    </tr>\n",
       "  </thead>\n",
       "  <tbody>\n",
       "    <tr>\n",
       "      <th>0</th>\n",
       "      <td>Alabama</td>\n",
       "      <td>Auburn</td>\n",
       "    </tr>\n",
       "    <tr>\n",
       "      <th>1</th>\n",
       "      <td>Alabama</td>\n",
       "      <td>Florence</td>\n",
       "    </tr>\n",
       "    <tr>\n",
       "      <th>2</th>\n",
       "      <td>Alabama</td>\n",
       "      <td>Jacksonville</td>\n",
       "    </tr>\n",
       "    <tr>\n",
       "      <th>3</th>\n",
       "      <td>Alabama</td>\n",
       "      <td>Livingston</td>\n",
       "    </tr>\n",
       "    <tr>\n",
       "      <th>4</th>\n",
       "      <td>Alabama</td>\n",
       "      <td>Montevallo</td>\n",
       "    </tr>\n",
       "    <tr>\n",
       "      <th>...</th>\n",
       "      <td>...</td>\n",
       "      <td>...</td>\n",
       "    </tr>\n",
       "    <tr>\n",
       "      <th>508</th>\n",
       "      <td>Wisconsin</td>\n",
       "      <td>River Falls</td>\n",
       "    </tr>\n",
       "    <tr>\n",
       "      <th>509</th>\n",
       "      <td>Wisconsin</td>\n",
       "      <td>Stevens Point</td>\n",
       "    </tr>\n",
       "    <tr>\n",
       "      <th>510</th>\n",
       "      <td>Wisconsin</td>\n",
       "      <td>Waukesha</td>\n",
       "    </tr>\n",
       "    <tr>\n",
       "      <th>511</th>\n",
       "      <td>Wisconsin</td>\n",
       "      <td>Whitewater</td>\n",
       "    </tr>\n",
       "    <tr>\n",
       "      <th>512</th>\n",
       "      <td>Wyoming</td>\n",
       "      <td>Laramie</td>\n",
       "    </tr>\n",
       "  </tbody>\n",
       "</table>\n",
       "<p>513 rows × 2 columns</p>\n",
       "</div>"
      ],
      "text/plain": [
       "         State     RegionName\n",
       "0      Alabama         Auburn\n",
       "1      Alabama       Florence\n",
       "2      Alabama   Jacksonville\n",
       "3      Alabama     Livingston\n",
       "4      Alabama     Montevallo\n",
       "..         ...            ...\n",
       "508  Wisconsin    River Falls\n",
       "509  Wisconsin  Stevens Point\n",
       "510  Wisconsin       Waukesha\n",
       "511  Wisconsin     Whitewater\n",
       "512    Wyoming        Laramie\n",
       "\n",
       "[513 rows x 2 columns]"
      ]
     },
     "execution_count": 5,
     "metadata": {},
     "output_type": "execute_result"
    },
    {
     "data": {
      "application/javascript": [
       "\n",
       "            setTimeout(function() {\n",
       "                var nbb_cell_id = 5;\n",
       "                var nbb_unformatted_code = \"get_list_of_university_towns()\";\n",
       "                var nbb_formatted_code = \"get_list_of_university_towns()\";\n",
       "                var nbb_cells = Jupyter.notebook.get_cells();\n",
       "                for (var i = 0; i < nbb_cells.length; ++i) {\n",
       "                    if (nbb_cells[i].input_prompt_number == nbb_cell_id) {\n",
       "                        if (nbb_cells[i].get_text() == nbb_unformatted_code) {\n",
       "                             nbb_cells[i].set_text(nbb_formatted_code);\n",
       "                        }\n",
       "                        break;\n",
       "                    }\n",
       "                }\n",
       "            }, 500);\n",
       "            "
      ],
      "text/plain": [
       "<IPython.core.display.Javascript object>"
      ]
     },
     "metadata": {},
     "output_type": "display_data"
    }
   ],
   "source": [
    "get_list_of_university_towns()"
   ]
  },
  {
   "cell_type": "code",
   "execution_count": 6,
   "metadata": {
    "umich_part_id": "022",
    "umich_partlist_id": "004"
   },
   "outputs": [
    {
     "data": {
      "application/javascript": [
       "\n",
       "            setTimeout(function() {\n",
       "                var nbb_cell_id = 6;\n",
       "                var nbb_unformatted_code = \"def get_recession_start():\\n    \\\"\\\"\\\"Returns the year and quarter of the recession start time as a\\n    string value in a format such as 2005q3\\\"\\\"\\\"\\n    gdp_df = pd.read_excel(\\\"gdplev.xls\\\", skiprows=5)\\n    gdp_df.dropna(axis=0, how=\\\"all\\\", inplace=True)\\n    gdp_df = gdp_df[\\n        [\\n            \\\"Unnamed: 4\\\",\\n            \\\"GDP in billions of current dollars.1\\\",\\n            \\\"GDP in billions of chained 2009 dollars.1\\\",\\n        ]\\n    ]\\n    gdp_df.rename(\\n        columns={\\n            \\\"Unnamed: 4\\\": \\\"year_quarter_str\\\",\\n            \\\"GDP in billions of current dollars.1\\\": \\\"GDP in billions of current dollars\\\",\\n            \\\"GDP in billions of chained 2009 dollars.1\\\": \\\"GDP in billions of chained 2009 dollars\\\",\\n        },\\n        inplace=True,\\n    )\\n    gdp_df[\\\"year_quarter\\\"] = (\\n        gdp_df[\\\"year_quarter_str\\\"]\\n        .str.extract(r\\\"([0-9]{4})(q[1|2|3|4]{1})\\\")\\n        .apply(lambda x: pd.Period(x[0] + x[1]), axis=1)\\n    )\\n    gdp_df = gdp_df[gdp_df[\\\"year_quarter\\\"] >= pd.Period(\\\"2001Q1\\\")].reset_index(\\n        drop=True\\n    )\\n    gdp_df[\\\"change\\\"] = gdp_df[\\\"GDP in billions of current dollars\\\"].diff().fillna(0)\\n    start = (\\n        (gdp_df[\\\"change\\\"] >= 0)\\n        & (gdp_df[\\\"change\\\"].shift(-1) < 0)\\n        & (gdp_df[\\\"change\\\"].shift(-2) < 0)\\n    )\\n    return gdp_df.loc[\\n        start & (gdp_df[\\\"year_quarter\\\"] == gdp_df.loc[start, \\\"year_quarter\\\"].min()),\\n        \\\"year_quarter_str\\\",\\n    ].item()\";\n",
       "                var nbb_formatted_code = \"def get_recession_start():\\n    \\\"\\\"\\\"Returns the year and quarter of the recession start time as a\\n    string value in a format such as 2005q3\\\"\\\"\\\"\\n    gdp_df = pd.read_excel(\\\"gdplev.xls\\\", skiprows=5)\\n    gdp_df.dropna(axis=0, how=\\\"all\\\", inplace=True)\\n    gdp_df = gdp_df[\\n        [\\n            \\\"Unnamed: 4\\\",\\n            \\\"GDP in billions of current dollars.1\\\",\\n            \\\"GDP in billions of chained 2009 dollars.1\\\",\\n        ]\\n    ]\\n    gdp_df.rename(\\n        columns={\\n            \\\"Unnamed: 4\\\": \\\"year_quarter_str\\\",\\n            \\\"GDP in billions of current dollars.1\\\": \\\"GDP in billions of current dollars\\\",\\n            \\\"GDP in billions of chained 2009 dollars.1\\\": \\\"GDP in billions of chained 2009 dollars\\\",\\n        },\\n        inplace=True,\\n    )\\n    gdp_df[\\\"year_quarter\\\"] = (\\n        gdp_df[\\\"year_quarter_str\\\"]\\n        .str.extract(r\\\"([0-9]{4})(q[1|2|3|4]{1})\\\")\\n        .apply(lambda x: pd.Period(x[0] + x[1]), axis=1)\\n    )\\n    gdp_df = gdp_df[gdp_df[\\\"year_quarter\\\"] >= pd.Period(\\\"2001Q1\\\")].reset_index(\\n        drop=True\\n    )\\n    gdp_df[\\\"change\\\"] = gdp_df[\\\"GDP in billions of current dollars\\\"].diff().fillna(0)\\n    start = (\\n        (gdp_df[\\\"change\\\"] >= 0)\\n        & (gdp_df[\\\"change\\\"].shift(-1) < 0)\\n        & (gdp_df[\\\"change\\\"].shift(-2) < 0)\\n    )\\n    return gdp_df.loc[\\n        start & (gdp_df[\\\"year_quarter\\\"] == gdp_df.loc[start, \\\"year_quarter\\\"].min()),\\n        \\\"year_quarter_str\\\",\\n    ].item()\";\n",
       "                var nbb_cells = Jupyter.notebook.get_cells();\n",
       "                for (var i = 0; i < nbb_cells.length; ++i) {\n",
       "                    if (nbb_cells[i].input_prompt_number == nbb_cell_id) {\n",
       "                        if (nbb_cells[i].get_text() == nbb_unformatted_code) {\n",
       "                             nbb_cells[i].set_text(nbb_formatted_code);\n",
       "                        }\n",
       "                        break;\n",
       "                    }\n",
       "                }\n",
       "            }, 500);\n",
       "            "
      ],
      "text/plain": [
       "<IPython.core.display.Javascript object>"
      ]
     },
     "metadata": {},
     "output_type": "display_data"
    }
   ],
   "source": [
    "def get_recession_start():\n",
    "    \"\"\"Returns the year and quarter of the recession start time as a\n",
    "    string value in a format such as 2005q3\"\"\"\n",
    "    gdp_df = pd.read_excel(\"gdplev.xls\", skiprows=5)\n",
    "    gdp_df.dropna(axis=0, how=\"all\", inplace=True)\n",
    "    gdp_df = gdp_df[\n",
    "        [\n",
    "            \"Unnamed: 4\",\n",
    "            \"GDP in billions of current dollars.1\",\n",
    "            \"GDP in billions of chained 2009 dollars.1\",\n",
    "        ]\n",
    "    ]\n",
    "    gdp_df.rename(\n",
    "        columns={\n",
    "            \"Unnamed: 4\": \"year_quarter_str\",\n",
    "            \"GDP in billions of current dollars.1\": \"GDP in billions of current dollars\",\n",
    "            \"GDP in billions of chained 2009 dollars.1\": \"GDP in billions of chained 2009 dollars\",\n",
    "        },\n",
    "        inplace=True,\n",
    "    )\n",
    "    gdp_df[\"year_quarter\"] = (\n",
    "        gdp_df[\"year_quarter_str\"]\n",
    "        .str.extract(r\"([0-9]{4})(q[1|2|3|4]{1})\")\n",
    "        .apply(lambda x: pd.Period(x[0] + x[1]), axis=1)\n",
    "    )\n",
    "    gdp_df = gdp_df[gdp_df[\"year_quarter\"] >= pd.Period(\"2001Q1\")].reset_index(\n",
    "        drop=True\n",
    "    )\n",
    "    gdp_df[\"change\"] = gdp_df[\"GDP in billions of current dollars\"].diff().fillna(0)\n",
    "    start = (\n",
    "        (gdp_df[\"change\"] >= 0)\n",
    "        & (gdp_df[\"change\"].shift(-1) < 0)\n",
    "        & (gdp_df[\"change\"].shift(-2) < 0)\n",
    "    )\n",
    "    return gdp_df.loc[\n",
    "        start & (gdp_df[\"year_quarter\"] == gdp_df.loc[start, \"year_quarter\"].min()),\n",
    "        \"year_quarter_str\",\n",
    "    ].item()"
   ]
  },
  {
   "cell_type": "code",
   "execution_count": 7,
   "metadata": {},
   "outputs": [
    {
     "data": {
      "text/plain": [
       "'2008q3'"
      ]
     },
     "execution_count": 7,
     "metadata": {},
     "output_type": "execute_result"
    },
    {
     "data": {
      "application/javascript": [
       "\n",
       "            setTimeout(function() {\n",
       "                var nbb_cell_id = 7;\n",
       "                var nbb_unformatted_code = \"get_recession_start()\";\n",
       "                var nbb_formatted_code = \"get_recession_start()\";\n",
       "                var nbb_cells = Jupyter.notebook.get_cells();\n",
       "                for (var i = 0; i < nbb_cells.length; ++i) {\n",
       "                    if (nbb_cells[i].input_prompt_number == nbb_cell_id) {\n",
       "                        if (nbb_cells[i].get_text() == nbb_unformatted_code) {\n",
       "                             nbb_cells[i].set_text(nbb_formatted_code);\n",
       "                        }\n",
       "                        break;\n",
       "                    }\n",
       "                }\n",
       "            }, 500);\n",
       "            "
      ],
      "text/plain": [
       "<IPython.core.display.Javascript object>"
      ]
     },
     "metadata": {},
     "output_type": "display_data"
    }
   ],
   "source": [
    "get_recession_start()"
   ]
  },
  {
   "cell_type": "code",
   "execution_count": 8,
   "metadata": {
    "umich_part_id": "023",
    "umich_partlist_id": "004"
   },
   "outputs": [
    {
     "data": {
      "application/javascript": [
       "\n",
       "            setTimeout(function() {\n",
       "                var nbb_cell_id = 8;\n",
       "                var nbb_unformatted_code = \"def get_recession_end():\\n    \\\"\\\"\\\"Returns the year and quarter of the recession end time as a\\n    string value in a format such as 2005q3\\\"\\\"\\\"\\n    gdp_df = pd.read_excel(\\\"gdplev.xls\\\", skiprows=5)\\n    gdp_df.dropna(axis=0, how=\\\"all\\\", inplace=True)\\n    gdp_df = gdp_df[\\n        [\\n            \\\"Unnamed: 4\\\",\\n            \\\"GDP in billions of current dollars.1\\\",\\n            \\\"GDP in billions of chained 2009 dollars.1\\\",\\n        ]\\n    ]\\n    gdp_df.rename(\\n        columns={\\n            \\\"Unnamed: 4\\\": \\\"year_quarter_str\\\",\\n            \\\"GDP in billions of current dollars.1\\\": \\\"GDP in billions of current dollars\\\",\\n            \\\"GDP in billions of chained 2009 dollars.1\\\": \\\"GDP in billions of chained 2009 dollars\\\",\\n        },\\n        inplace=True,\\n    )\\n    gdp_df[\\\"year_quarter\\\"] = (\\n        gdp_df[\\\"year_quarter_str\\\"]\\n        .str.extract(r\\\"([0-9]{4})(q[1|2|3|4]{1})\\\")\\n        .apply(lambda x: pd.Period(x[0] + x[1]), axis=1)\\n    )\\n    gdp_df = gdp_df[gdp_df[\\\"year_quarter\\\"] >= pd.Period(\\\"2001Q1\\\")].reset_index(\\n        drop=True\\n    )\\n    gdp_df[\\\"change\\\"] = gdp_df[\\\"GDP in billions of current dollars\\\"].diff().fillna(0)\\n    start = (\\n        (gdp_df[\\\"change\\\"] >= 0)\\n        & (gdp_df[\\\"change\\\"].shift(-1) < 0)\\n        & (gdp_df[\\\"change\\\"].shift(-2) < 0)\\n    )\\n    end = (gdp_df[\\\"change\\\"] > 0) & (gdp_df[\\\"change\\\"].shift(1) > 0)\\n    return (\\n        gdp_df.loc[\\n            end & (gdp_df[\\\"year_quarter\\\"] > gdp_df.loc[start, \\\"year_quarter\\\"].max())\\n        ]\\n        .head(1)\\n        .year_quarter_str.item()\\n    )\";\n",
       "                var nbb_formatted_code = \"def get_recession_end():\\n    \\\"\\\"\\\"Returns the year and quarter of the recession end time as a\\n    string value in a format such as 2005q3\\\"\\\"\\\"\\n    gdp_df = pd.read_excel(\\\"gdplev.xls\\\", skiprows=5)\\n    gdp_df.dropna(axis=0, how=\\\"all\\\", inplace=True)\\n    gdp_df = gdp_df[\\n        [\\n            \\\"Unnamed: 4\\\",\\n            \\\"GDP in billions of current dollars.1\\\",\\n            \\\"GDP in billions of chained 2009 dollars.1\\\",\\n        ]\\n    ]\\n    gdp_df.rename(\\n        columns={\\n            \\\"Unnamed: 4\\\": \\\"year_quarter_str\\\",\\n            \\\"GDP in billions of current dollars.1\\\": \\\"GDP in billions of current dollars\\\",\\n            \\\"GDP in billions of chained 2009 dollars.1\\\": \\\"GDP in billions of chained 2009 dollars\\\",\\n        },\\n        inplace=True,\\n    )\\n    gdp_df[\\\"year_quarter\\\"] = (\\n        gdp_df[\\\"year_quarter_str\\\"]\\n        .str.extract(r\\\"([0-9]{4})(q[1|2|3|4]{1})\\\")\\n        .apply(lambda x: pd.Period(x[0] + x[1]), axis=1)\\n    )\\n    gdp_df = gdp_df[gdp_df[\\\"year_quarter\\\"] >= pd.Period(\\\"2001Q1\\\")].reset_index(\\n        drop=True\\n    )\\n    gdp_df[\\\"change\\\"] = gdp_df[\\\"GDP in billions of current dollars\\\"].diff().fillna(0)\\n    start = (\\n        (gdp_df[\\\"change\\\"] >= 0)\\n        & (gdp_df[\\\"change\\\"].shift(-1) < 0)\\n        & (gdp_df[\\\"change\\\"].shift(-2) < 0)\\n    )\\n    end = (gdp_df[\\\"change\\\"] > 0) & (gdp_df[\\\"change\\\"].shift(1) > 0)\\n    return (\\n        gdp_df.loc[\\n            end & (gdp_df[\\\"year_quarter\\\"] > gdp_df.loc[start, \\\"year_quarter\\\"].max())\\n        ]\\n        .head(1)\\n        .year_quarter_str.item()\\n    )\";\n",
       "                var nbb_cells = Jupyter.notebook.get_cells();\n",
       "                for (var i = 0; i < nbb_cells.length; ++i) {\n",
       "                    if (nbb_cells[i].input_prompt_number == nbb_cell_id) {\n",
       "                        if (nbb_cells[i].get_text() == nbb_unformatted_code) {\n",
       "                             nbb_cells[i].set_text(nbb_formatted_code);\n",
       "                        }\n",
       "                        break;\n",
       "                    }\n",
       "                }\n",
       "            }, 500);\n",
       "            "
      ],
      "text/plain": [
       "<IPython.core.display.Javascript object>"
      ]
     },
     "metadata": {},
     "output_type": "display_data"
    }
   ],
   "source": [
    "def get_recession_end():\n",
    "    \"\"\"Returns the year and quarter of the recession end time as a\n",
    "    string value in a format such as 2005q3\"\"\"\n",
    "    gdp_df = pd.read_excel(\"gdplev.xls\", skiprows=5)\n",
    "    gdp_df.dropna(axis=0, how=\"all\", inplace=True)\n",
    "    gdp_df = gdp_df[\n",
    "        [\n",
    "            \"Unnamed: 4\",\n",
    "            \"GDP in billions of current dollars.1\",\n",
    "            \"GDP in billions of chained 2009 dollars.1\",\n",
    "        ]\n",
    "    ]\n",
    "    gdp_df.rename(\n",
    "        columns={\n",
    "            \"Unnamed: 4\": \"year_quarter_str\",\n",
    "            \"GDP in billions of current dollars.1\": \"GDP in billions of current dollars\",\n",
    "            \"GDP in billions of chained 2009 dollars.1\": \"GDP in billions of chained 2009 dollars\",\n",
    "        },\n",
    "        inplace=True,\n",
    "    )\n",
    "    gdp_df[\"year_quarter\"] = (\n",
    "        gdp_df[\"year_quarter_str\"]\n",
    "        .str.extract(r\"([0-9]{4})(q[1|2|3|4]{1})\")\n",
    "        .apply(lambda x: pd.Period(x[0] + x[1]), axis=1)\n",
    "    )\n",
    "    gdp_df = gdp_df[gdp_df[\"year_quarter\"] >= pd.Period(\"2001Q1\")].reset_index(\n",
    "        drop=True\n",
    "    )\n",
    "    gdp_df[\"change\"] = gdp_df[\"GDP in billions of current dollars\"].diff().fillna(0)\n",
    "    start = (\n",
    "        (gdp_df[\"change\"] >= 0)\n",
    "        & (gdp_df[\"change\"].shift(-1) < 0)\n",
    "        & (gdp_df[\"change\"].shift(-2) < 0)\n",
    "    )\n",
    "    end = (gdp_df[\"change\"] > 0) & (gdp_df[\"change\"].shift(1) > 0)\n",
    "    return (\n",
    "        gdp_df.loc[\n",
    "            end & (gdp_df[\"year_quarter\"] > gdp_df.loc[start, \"year_quarter\"].max())\n",
    "        ]\n",
    "        .head(1)\n",
    "        .year_quarter_str.item()\n",
    "    )"
   ]
  },
  {
   "cell_type": "code",
   "execution_count": 9,
   "metadata": {},
   "outputs": [
    {
     "data": {
      "text/plain": [
       "'2009q4'"
      ]
     },
     "execution_count": 9,
     "metadata": {},
     "output_type": "execute_result"
    },
    {
     "data": {
      "application/javascript": [
       "\n",
       "            setTimeout(function() {\n",
       "                var nbb_cell_id = 9;\n",
       "                var nbb_unformatted_code = \"get_recession_end()\";\n",
       "                var nbb_formatted_code = \"get_recession_end()\";\n",
       "                var nbb_cells = Jupyter.notebook.get_cells();\n",
       "                for (var i = 0; i < nbb_cells.length; ++i) {\n",
       "                    if (nbb_cells[i].input_prompt_number == nbb_cell_id) {\n",
       "                        if (nbb_cells[i].get_text() == nbb_unformatted_code) {\n",
       "                             nbb_cells[i].set_text(nbb_formatted_code);\n",
       "                        }\n",
       "                        break;\n",
       "                    }\n",
       "                }\n",
       "            }, 500);\n",
       "            "
      ],
      "text/plain": [
       "<IPython.core.display.Javascript object>"
      ]
     },
     "metadata": {},
     "output_type": "display_data"
    }
   ],
   "source": [
    "get_recession_end()"
   ]
  },
  {
   "cell_type": "code",
   "execution_count": 10,
   "metadata": {
    "umich_part_id": "024",
    "umich_partlist_id": "004"
   },
   "outputs": [
    {
     "data": {
      "application/javascript": [
       "\n",
       "            setTimeout(function() {\n",
       "                var nbb_cell_id = 10;\n",
       "                var nbb_unformatted_code = \"def get_recession_bottom():\\n    \\\"\\\"\\\"Returns the year and quarter of the recession bottom time as a\\n    string value in a format such as 2005q3\\\"\\\"\\\"\\n    start_quarter_year = get_recession_start()\\n    end_quarter_year = get_recession_end()\\n    gdp_df = pd.read_excel(\\\"gdplev.xls\\\", skiprows=5)\\n    gdp_df.dropna(axis=0, how=\\\"all\\\", inplace=True)\\n    gdp_df = gdp_df[\\n        [\\n            \\\"Unnamed: 4\\\",\\n            \\\"GDP in billions of current dollars.1\\\",\\n            \\\"GDP in billions of chained 2009 dollars.1\\\",\\n        ]\\n    ]\\n    gdp_df.rename(\\n        columns={\\n            \\\"Unnamed: 4\\\": \\\"year_quarter_str\\\",\\n            \\\"GDP in billions of current dollars.1\\\": \\\"GDP in billions of current dollars\\\",\\n            \\\"GDP in billions of chained 2009 dollars.1\\\": \\\"GDP in billions of chained 2009 dollars\\\",\\n        },\\n        inplace=True,\\n    )\\n    gdp_df[\\\"year_quarter\\\"] = (\\n        gdp_df[\\\"year_quarter_str\\\"]\\n        .str.extract(r\\\"([0-9]{4})(q[1|2|3|4]{1})\\\")\\n        .apply(lambda x: pd.Period(x[0] + x[1]), axis=1)\\n    )\\n    gdp_df = gdp_df[gdp_df[\\\"year_quarter\\\"] >= pd.Period(\\\"2001Q1\\\")].reset_index(\\n        drop=True\\n    )\\n    mid_recession = gdp_df.loc[\\n        (\\n            (gdp_df[\\\"year_quarter\\\"] > pd.Period(start_quarter_year))\\n            & (gdp_df[\\\"year_quarter\\\"] < pd.Period(end_quarter_year))\\n        )\\n    ]\\n    return mid_recession.loc[\\n        mid_recession[\\\"GDP in billions of current dollars\\\"]\\n        == mid_recession[\\\"GDP in billions of current dollars\\\"].min(),\\n        \\\"year_quarter_str\\\",\\n    ].item()\";\n",
       "                var nbb_formatted_code = \"def get_recession_bottom():\\n    \\\"\\\"\\\"Returns the year and quarter of the recession bottom time as a\\n    string value in a format such as 2005q3\\\"\\\"\\\"\\n    start_quarter_year = get_recession_start()\\n    end_quarter_year = get_recession_end()\\n    gdp_df = pd.read_excel(\\\"gdplev.xls\\\", skiprows=5)\\n    gdp_df.dropna(axis=0, how=\\\"all\\\", inplace=True)\\n    gdp_df = gdp_df[\\n        [\\n            \\\"Unnamed: 4\\\",\\n            \\\"GDP in billions of current dollars.1\\\",\\n            \\\"GDP in billions of chained 2009 dollars.1\\\",\\n        ]\\n    ]\\n    gdp_df.rename(\\n        columns={\\n            \\\"Unnamed: 4\\\": \\\"year_quarter_str\\\",\\n            \\\"GDP in billions of current dollars.1\\\": \\\"GDP in billions of current dollars\\\",\\n            \\\"GDP in billions of chained 2009 dollars.1\\\": \\\"GDP in billions of chained 2009 dollars\\\",\\n        },\\n        inplace=True,\\n    )\\n    gdp_df[\\\"year_quarter\\\"] = (\\n        gdp_df[\\\"year_quarter_str\\\"]\\n        .str.extract(r\\\"([0-9]{4})(q[1|2|3|4]{1})\\\")\\n        .apply(lambda x: pd.Period(x[0] + x[1]), axis=1)\\n    )\\n    gdp_df = gdp_df[gdp_df[\\\"year_quarter\\\"] >= pd.Period(\\\"2001Q1\\\")].reset_index(\\n        drop=True\\n    )\\n    mid_recession = gdp_df.loc[\\n        (\\n            (gdp_df[\\\"year_quarter\\\"] > pd.Period(start_quarter_year))\\n            & (gdp_df[\\\"year_quarter\\\"] < pd.Period(end_quarter_year))\\n        )\\n    ]\\n    return mid_recession.loc[\\n        mid_recession[\\\"GDP in billions of current dollars\\\"]\\n        == mid_recession[\\\"GDP in billions of current dollars\\\"].min(),\\n        \\\"year_quarter_str\\\",\\n    ].item()\";\n",
       "                var nbb_cells = Jupyter.notebook.get_cells();\n",
       "                for (var i = 0; i < nbb_cells.length; ++i) {\n",
       "                    if (nbb_cells[i].input_prompt_number == nbb_cell_id) {\n",
       "                        if (nbb_cells[i].get_text() == nbb_unformatted_code) {\n",
       "                             nbb_cells[i].set_text(nbb_formatted_code);\n",
       "                        }\n",
       "                        break;\n",
       "                    }\n",
       "                }\n",
       "            }, 500);\n",
       "            "
      ],
      "text/plain": [
       "<IPython.core.display.Javascript object>"
      ]
     },
     "metadata": {},
     "output_type": "display_data"
    }
   ],
   "source": [
    "def get_recession_bottom():\n",
    "    \"\"\"Returns the year and quarter of the recession bottom time as a\n",
    "    string value in a format such as 2005q3\"\"\"\n",
    "    start_quarter_year = get_recession_start()\n",
    "    end_quarter_year = get_recession_end()\n",
    "    gdp_df = pd.read_excel(\"gdplev.xls\", skiprows=5)\n",
    "    gdp_df.dropna(axis=0, how=\"all\", inplace=True)\n",
    "    gdp_df = gdp_df[\n",
    "        [\n",
    "            \"Unnamed: 4\",\n",
    "            \"GDP in billions of current dollars.1\",\n",
    "            \"GDP in billions of chained 2009 dollars.1\",\n",
    "        ]\n",
    "    ]\n",
    "    gdp_df.rename(\n",
    "        columns={\n",
    "            \"Unnamed: 4\": \"year_quarter_str\",\n",
    "            \"GDP in billions of current dollars.1\": \"GDP in billions of current dollars\",\n",
    "            \"GDP in billions of chained 2009 dollars.1\": \"GDP in billions of chained 2009 dollars\",\n",
    "        },\n",
    "        inplace=True,\n",
    "    )\n",
    "    gdp_df[\"year_quarter\"] = (\n",
    "        gdp_df[\"year_quarter_str\"]\n",
    "        .str.extract(r\"([0-9]{4})(q[1|2|3|4]{1})\")\n",
    "        .apply(lambda x: pd.Period(x[0] + x[1]), axis=1)\n",
    "    )\n",
    "    gdp_df = gdp_df[gdp_df[\"year_quarter\"] >= pd.Period(\"2001Q1\")].reset_index(\n",
    "        drop=True\n",
    "    )\n",
    "    mid_recession = gdp_df.loc[\n",
    "        (\n",
    "            (gdp_df[\"year_quarter\"] > pd.Period(start_quarter_year))\n",
    "            & (gdp_df[\"year_quarter\"] < pd.Period(end_quarter_year))\n",
    "        )\n",
    "    ]\n",
    "    return mid_recession.loc[\n",
    "        mid_recession[\"GDP in billions of current dollars\"]\n",
    "        == mid_recession[\"GDP in billions of current dollars\"].min(),\n",
    "        \"year_quarter_str\",\n",
    "    ].item()"
   ]
  },
  {
   "cell_type": "code",
   "execution_count": 11,
   "metadata": {},
   "outputs": [
    {
     "data": {
      "text/plain": [
       "'2009q2'"
      ]
     },
     "execution_count": 11,
     "metadata": {},
     "output_type": "execute_result"
    },
    {
     "data": {
      "application/javascript": [
       "\n",
       "            setTimeout(function() {\n",
       "                var nbb_cell_id = 11;\n",
       "                var nbb_unformatted_code = \"get_recession_bottom()\";\n",
       "                var nbb_formatted_code = \"get_recession_bottom()\";\n",
       "                var nbb_cells = Jupyter.notebook.get_cells();\n",
       "                for (var i = 0; i < nbb_cells.length; ++i) {\n",
       "                    if (nbb_cells[i].input_prompt_number == nbb_cell_id) {\n",
       "                        if (nbb_cells[i].get_text() == nbb_unformatted_code) {\n",
       "                             nbb_cells[i].set_text(nbb_formatted_code);\n",
       "                        }\n",
       "                        break;\n",
       "                    }\n",
       "                }\n",
       "            }, 500);\n",
       "            "
      ],
      "text/plain": [
       "<IPython.core.display.Javascript object>"
      ]
     },
     "metadata": {},
     "output_type": "display_data"
    }
   ],
   "source": [
    "get_recession_bottom()"
   ]
  },
  {
   "cell_type": "code",
   "execution_count": 12,
   "metadata": {
    "umich_part_id": "025",
    "umich_partlist_id": "004"
   },
   "outputs": [
    {
     "data": {
      "application/javascript": [
       "\n",
       "            setTimeout(function() {\n",
       "                var nbb_cell_id = 12;\n",
       "                var nbb_unformatted_code = \"def convert_housing_data_to_quarters():\\n    \\\"\\\"\\\"Converts the housing data to quarters and returns it as mean\\n    values in a dataframe. This dataframe should be a dataframe with\\n    columns for 2000q1 through 2016q3, and should have a multi-index\\n    in the shape of [\\\"State\\\",\\\"RegionName\\\"].\\n\\n    Note: Quarters are defined in the assignment description, they are\\n    not arbitrary three month periods.\\n\\n    The resulting dataframe should have 67 columns, and 10,730 rows.\\n    \\\"\\\"\\\"\\n\\n    return \\\"ANSWER\\\"\";\n",
       "                var nbb_formatted_code = \"def convert_housing_data_to_quarters():\\n    \\\"\\\"\\\"Converts the housing data to quarters and returns it as mean\\n    values in a dataframe. This dataframe should be a dataframe with\\n    columns for 2000q1 through 2016q3, and should have a multi-index\\n    in the shape of [\\\"State\\\",\\\"RegionName\\\"].\\n\\n    Note: Quarters are defined in the assignment description, they are\\n    not arbitrary three month periods.\\n\\n    The resulting dataframe should have 67 columns, and 10,730 rows.\\n    \\\"\\\"\\\"\\n\\n    return \\\"ANSWER\\\"\";\n",
       "                var nbb_cells = Jupyter.notebook.get_cells();\n",
       "                for (var i = 0; i < nbb_cells.length; ++i) {\n",
       "                    if (nbb_cells[i].input_prompt_number == nbb_cell_id) {\n",
       "                        if (nbb_cells[i].get_text() == nbb_unformatted_code) {\n",
       "                             nbb_cells[i].set_text(nbb_formatted_code);\n",
       "                        }\n",
       "                        break;\n",
       "                    }\n",
       "                }\n",
       "            }, 500);\n",
       "            "
      ],
      "text/plain": [
       "<IPython.core.display.Javascript object>"
      ]
     },
     "metadata": {},
     "output_type": "display_data"
    }
   ],
   "source": [
    "def convert_housing_data_to_quarters():\n",
    "    \"\"\"Converts the housing data to quarters and returns it as mean\n",
    "    values in a dataframe. This dataframe should be a dataframe with\n",
    "    columns for 2000q1 through 2016q3, and should have a multi-index\n",
    "    in the shape of [\"State\",\"RegionName\"].\n",
    "\n",
    "    Note: Quarters are defined in the assignment description, they are\n",
    "    not arbitrary three month periods.\n",
    "\n",
    "    The resulting dataframe should have 67 columns, and 10,730 rows.\n",
    "    \"\"\"\n",
    "\n",
    "    return \"ANSWER\""
   ]
  },
  {
   "cell_type": "code",
   "execution_count": 13,
   "metadata": {},
   "outputs": [
    {
     "data": {
      "text/plain": [
       "'ANSWER'"
      ]
     },
     "execution_count": 13,
     "metadata": {},
     "output_type": "execute_result"
    },
    {
     "data": {
      "application/javascript": [
       "\n",
       "            setTimeout(function() {\n",
       "                var nbb_cell_id = 13;\n",
       "                var nbb_unformatted_code = \"convert_housing_data_to_quarters()\";\n",
       "                var nbb_formatted_code = \"convert_housing_data_to_quarters()\";\n",
       "                var nbb_cells = Jupyter.notebook.get_cells();\n",
       "                for (var i = 0; i < nbb_cells.length; ++i) {\n",
       "                    if (nbb_cells[i].input_prompt_number == nbb_cell_id) {\n",
       "                        if (nbb_cells[i].get_text() == nbb_unformatted_code) {\n",
       "                             nbb_cells[i].set_text(nbb_formatted_code);\n",
       "                        }\n",
       "                        break;\n",
       "                    }\n",
       "                }\n",
       "            }, 500);\n",
       "            "
      ],
      "text/plain": [
       "<IPython.core.display.Javascript object>"
      ]
     },
     "metadata": {},
     "output_type": "display_data"
    }
   ],
   "source": [
    "convert_housing_data_to_quarters()"
   ]
  },
  {
   "cell_type": "code",
   "execution_count": 14,
   "metadata": {
    "umich_part_id": "026",
    "umich_partlist_id": "004"
   },
   "outputs": [
    {
     "data": {
      "application/javascript": [
       "\n",
       "            setTimeout(function() {\n",
       "                var nbb_cell_id = 14;\n",
       "                var nbb_unformatted_code = \"def run_ttest():\\n    \\\"\\\"\\\"First creates new data showing the decline or growth of housing prices\\n    between the recession start and the recession bottom. Then runs a ttest\\n    comparing the university town values to the non-university towns values,\\n    return whether the alternative hypothesis (that the two groups are the same)\\n    is true or not as well as the p-value of the confidence.\\n\\n    Return the tuple (different, p, better) where different=True if the t-test is\\n    True at a p<0.01 (we reject the null hypothesis), or different=False if\\n    otherwise (we cannot reject the null hypothesis). The variable p should\\n    be equal to the exact p value returned from scipy.stats.ttest_ind(). The\\n    value for better should be either \\\"university town\\\" or \\\"non-university town\\\"\\n    depending on which has a lower mean price ratio (which is equivilent to a\\n    reduced market loss).\\\"\\\"\\\"\\n\\n    return \\\"ANSWER\\\"\";\n",
       "                var nbb_formatted_code = \"def run_ttest():\\n    \\\"\\\"\\\"First creates new data showing the decline or growth of housing prices\\n    between the recession start and the recession bottom. Then runs a ttest\\n    comparing the university town values to the non-university towns values,\\n    return whether the alternative hypothesis (that the two groups are the same)\\n    is true or not as well as the p-value of the confidence.\\n\\n    Return the tuple (different, p, better) where different=True if the t-test is\\n    True at a p<0.01 (we reject the null hypothesis), or different=False if\\n    otherwise (we cannot reject the null hypothesis). The variable p should\\n    be equal to the exact p value returned from scipy.stats.ttest_ind(). The\\n    value for better should be either \\\"university town\\\" or \\\"non-university town\\\"\\n    depending on which has a lower mean price ratio (which is equivilent to a\\n    reduced market loss).\\\"\\\"\\\"\\n\\n    return \\\"ANSWER\\\"\";\n",
       "                var nbb_cells = Jupyter.notebook.get_cells();\n",
       "                for (var i = 0; i < nbb_cells.length; ++i) {\n",
       "                    if (nbb_cells[i].input_prompt_number == nbb_cell_id) {\n",
       "                        if (nbb_cells[i].get_text() == nbb_unformatted_code) {\n",
       "                             nbb_cells[i].set_text(nbb_formatted_code);\n",
       "                        }\n",
       "                        break;\n",
       "                    }\n",
       "                }\n",
       "            }, 500);\n",
       "            "
      ],
      "text/plain": [
       "<IPython.core.display.Javascript object>"
      ]
     },
     "metadata": {},
     "output_type": "display_data"
    }
   ],
   "source": [
    "def run_ttest():\n",
    "    \"\"\"First creates new data showing the decline or growth of housing prices\n",
    "    between the recession start and the recession bottom. Then runs a ttest\n",
    "    comparing the university town values to the non-university towns values,\n",
    "    return whether the alternative hypothesis (that the two groups are the same)\n",
    "    is true or not as well as the p-value of the confidence.\n",
    "\n",
    "    Return the tuple (different, p, better) where different=True if the t-test is\n",
    "    True at a p<0.01 (we reject the null hypothesis), or different=False if\n",
    "    otherwise (we cannot reject the null hypothesis). The variable p should\n",
    "    be equal to the exact p value returned from scipy.stats.ttest_ind(). The\n",
    "    value for better should be either \"university town\" or \"non-university town\"\n",
    "    depending on which has a lower mean price ratio (which is equivilent to a\n",
    "    reduced market loss).\"\"\"\n",
    "\n",
    "    return \"ANSWER\""
   ]
  },
  {
   "cell_type": "code",
   "execution_count": 15,
   "metadata": {},
   "outputs": [
    {
     "data": {
      "text/plain": [
       "'ANSWER'"
      ]
     },
     "execution_count": 15,
     "metadata": {},
     "output_type": "execute_result"
    },
    {
     "data": {
      "application/javascript": [
       "\n",
       "            setTimeout(function() {\n",
       "                var nbb_cell_id = 15;\n",
       "                var nbb_unformatted_code = \"run_ttest()\";\n",
       "                var nbb_formatted_code = \"run_ttest()\";\n",
       "                var nbb_cells = Jupyter.notebook.get_cells();\n",
       "                for (var i = 0; i < nbb_cells.length; ++i) {\n",
       "                    if (nbb_cells[i].input_prompt_number == nbb_cell_id) {\n",
       "                        if (nbb_cells[i].get_text() == nbb_unformatted_code) {\n",
       "                             nbb_cells[i].set_text(nbb_formatted_code);\n",
       "                        }\n",
       "                        break;\n",
       "                    }\n",
       "                }\n",
       "            }, 500);\n",
       "            "
      ],
      "text/plain": [
       "<IPython.core.display.Javascript object>"
      ]
     },
     "metadata": {},
     "output_type": "display_data"
    }
   ],
   "source": [
    "run_ttest()"
   ]
  }
 ],
 "metadata": {
  "coursera": {
   "course_slug": "python-data-analysis",
   "graded_item_id": "Il9Fx",
   "launcher_item_id": "TeDW0",
   "part_id": "WGlun"
  },
  "kernelspec": {
   "display_name": "Python 3",
   "language": "python",
   "name": "python3"
  },
  "language_info": {
   "codemirror_mode": {
    "name": "ipython",
    "version": 3
   },
   "file_extension": ".py",
   "mimetype": "text/x-python",
   "name": "python",
   "nbconvert_exporter": "python",
   "pygments_lexer": "ipython3",
   "version": "3.8.6"
  },
  "umich": {
   "id": "Assignment 4",
   "version": "1.1"
  }
 },
 "nbformat": 4,
 "nbformat_minor": 1
}
